{
 "cells": [
  {
   "cell_type": "markdown",
   "metadata": {},
   "source": [
    "# Days' supply validation\n",
    "\n",
    "Principal investigator: Trish Freeman (contact info)<br>\n",
    "Research team: John Brown, Nabarun Dasgupta<br>\n",
    "Project P1\n",
    "__________\n",
   ]
  },
  {
   "cell_type": "markdown",
   "metadata": {},
   "source": [
    "## Survey instrument\n",
    "\n",
    "The survey instrument was developed in conjunction with FDA. Here is a link (in the future) to the survey instrument."
   ]
  },
  {
   "cell_type": "markdown",
   "metadata": {},
   "source": [
    "## Hypotheses\n",
    "We expect to see that...\n",
    "\n",
    "$-b \\pm \\sqrt{b^2 - 4ac} \\over 2a$\n",
    "$x = a_0 + \\frac{1}{a_1 + \\frac{1}{a_2 + \\frac{1}{a_3 + a_4}}}$\n",
    "$\\forall x \\in X, \\quad \\exists y \\leq \\epsilon$"
   ]
  },
  {
   "cell_type": "markdown",
   "metadata": {},
   "source": [
    "## Data Collection\n",
    "\n",
    "The survey was fielded from [date] to [date]"
   ]
  },
  {
   "cell_type": "markdown",
   "metadata": {},
   "source": [
    "## Data Analysis\n",
    "\n",
    "The analysis will start with importing data. Then we will analyze it."
   ]
  },
  {
   "cell_type": "code",
   "execution_count": 3,
   "metadata": {},
   "outputs": [
    {
     "data": {
      "text/plain": [
       "Text(0, 0.5, 'Position (km)')"
      ]
     },
     "execution_count": 3,
     "metadata": {},
     "output_type": "execute_result"
    },
    {
     "data": {
      "image/png": "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\n",
      "text/plain": [
       "<Figure size 432x288 with 1 Axes>"
      ]
     },
     "metadata": {
      "needs_background": "light"
     },
     "output_type": "display_data"
    }
   ],
   "source": [
    "%matplotlib inline\n",
    "import matplotlib.pyplot as plt\n",
    "\n",
    "time = [0, 1, 2, 3]\n",
    "position = [0, 150, 270, 310]\n",
    "\n",
    "plt.plot(time, position)\n",
    "plt.xlabel('Time (hr)')\n",
    "plt.ylabel('Position (km)')"
   ]
  },
  {
   "cell_type": "markdown",
   "metadata": {},
   "source": [
    "## Results\n",
    "What we found was that..."
   ]
  },
  {
   "cell_type": "markdown",
   "metadata": {},
   "source": [
    "## Dissemination\n",
    "We will be presenting these results at...\n",
    "And submitting a paper to...\n"
   ]
  }
 ],
 "metadata": {
  "kernelspec": {
   "display_name": "Python 3",
   "language": "python",
   "name": "python3"
  },
  "language_info": {
   "codemirror_mode": {
    "name": "ipython",
    "version": 3
   },
   "file_extension": ".py",
   "mimetype": "text/x-python",
   "name": "python",
   "nbconvert_exporter": "python",
   "pygments_lexer": "ipython3",
   "version": "3.7.3"
  }
 },
 "nbformat": 4,
 "nbformat_minor": 2
}
